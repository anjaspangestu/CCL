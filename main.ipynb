{
  "nbformat": 4,
  "nbformat_minor": 0,
  "metadata": {
    "colab": {
      "name": "Untitled0.ipynb",
      "provenance": [],
      "mount_file_id": "1AdN5j6rNInPtMiZlD0OVnUvOQt-p8RFQ",
      "authorship_tag": "ABX9TyM2GdodmkIWQlkMNw1FZ82b",
      "include_colab_link": true
    },
    "kernelspec": {
      "name": "python3",
      "display_name": "Python 3"
    },
    "language_info": {
      "name": "python"
    }
  },
  "cells": [
    {
      "cell_type": "markdown",
      "metadata": {
        "id": "view-in-github",
        "colab_type": "text"
      },
      "source": [
        "<a href=\"https://colab.research.google.com/github/anjaspangestu/CCL/blob/main/main.ipynb\" target=\"_parent\"><img src=\"https://colab.research.google.com/assets/colab-badge.svg\" alt=\"Open In Colab\"/></a>"
      ]
    },
    {
      "cell_type": "code",
      "metadata": {
        "id": "DQY_RvVIOm_B"
      },
      "source": [
        "import cv2\n",
        "import numpy as np\n",
        "import glob\n",
        "import os\n",
        "\n",
        "\n",
        "def connected_component_label(filepath):\n",
        "    n = cv2.imread(filepath, 0)\n",
        "    # Thresholding (t == 98)\n",
        "    n = cv2.threshold(n, 98, 255, cv2.THRESH_BINARY)[1]\n",
        "    # Start CCL\n",
        "    num_labels, labels = cv2.connectedComponents(n)\n",
        "\n",
        "    label_hue = np.uint8(179 * labels / np.max(labels))\n",
        "    blank_ch = 255 * np.ones_like(label_hue)\n",
        "    labeled_img = cv2.merge([label_hue, blank_ch, blank_ch])\n",
        "    labeled_img = cv2.cvtColor(labeled_img, cv2.COLOR_HSV2BGR)\n",
        "    # background black\n",
        "    labeled_img[label_hue == 0] = 0\n",
        "    return labeled_img\n",
        "\n",
        "\n",
        "sourcePath = glob.glob(os.getcwd() + '/Glioma/*.png')\n",
        "targetedPath = os.path.join(os.getcwd() + '/', \"Output\")\n",
        "cv_img = []\n",
        "if os.path.exists(targetedPath):\n",
        "    print(\"folder ada.\")\n",
        "    os.remove(targetedPath)\n",
        "    i = 0\n",
        "    for img in sourcePath:\n",
        "        i += 1\n",
        "        print(\"memproses data - \", i, 'filepath: ', img)\n",
        "        output = connected_component_label(img)\n",
        "        cv2.imwrite(f'' + targetedPath + '/output_' + str(i) + '.png', output)\n",
        "else:\n",
        "    print(\"folder tidak ditemukan, membuat folder baru.\")\n",
        "    os.mkdir(targetedPath)\n",
        "    i = 0\n",
        "    for img in sourcePath:\n",
        "        i += 1\n",
        "        print(\"memproses data - \", i, 'filepath: ', img)\n",
        "        output = connected_component_label(img)\n",
        "        cv2.imwrite(f'' + targetedPath + '/output_' + str(i) + '.png', output)\n"
      ],
      "execution_count": null,
      "outputs": []
    }
  ]
}